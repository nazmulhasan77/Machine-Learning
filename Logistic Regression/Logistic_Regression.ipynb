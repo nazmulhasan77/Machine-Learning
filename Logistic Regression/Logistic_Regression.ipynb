{
 "cells": [
  {
   "cell_type": "markdown",
   "id": "dcac3d27",
   "metadata": {},
   "source": [
    "\n",
    "# 🤖 Logistic Regression in Machine Learning\n"
   ]
  },
  {
   "cell_type": "code",
   "execution_count": 49,
   "id": "3ac30eb8",
   "metadata": {},
   "outputs": [
    {
     "name": "stdout",
     "output_type": "stream",
     "text": [
      "Target class distribution:\n",
      "target\n",
      "1    165\n",
      "0    138\n",
      "Name: count, dtype: int64\n",
      "\n",
      "Training Accuracy: 0.8679\n",
      "Test Accuracy: 0.8132\n",
      "\n",
      "First 10 predictions: [0 1 1 0 1 1 1 0 0 0]\n"
     ]
    },
    {
     "name": "stderr",
     "output_type": "stream",
     "text": [
      "c:\\laragon\\bin\\python\\python-3.10\\lib\\site-packages\\sklearn\\linear_model\\_logistic.py:465: ConvergenceWarning: lbfgs failed to converge (status=1):\n",
      "STOP: TOTAL NO. OF ITERATIONS REACHED LIMIT.\n",
      "\n",
      "Increase the number of iterations (max_iter) or scale the data as shown in:\n",
      "    https://scikit-learn.org/stable/modules/preprocessing.html\n",
      "Please also refer to the documentation for alternative solver options:\n",
      "    https://scikit-learn.org/stable/modules/linear_model.html#logistic-regression\n",
      "  n_iter_i = _check_optimize_result(\n"
     ]
    }
   ],
   "source": [
    "import pandas as pd\n",
    "import numpy as np\n",
    "from sklearn.model_selection import train_test_split\n",
    "from sklearn.linear_model import LogisticRegression\n",
    "\n",
    "# Step 1: Load your CSV data\n",
    "data = pd.read_csv('heart.csv')\n",
    "\n",
    "# Step 2: Separate features (X) and target (y)\n",
    "X = data.drop(columns='target')  # Make sure 'target' exists\n",
    "y = data['target']\n",
    "\n",
    "# Optional: Check target class distribution\n",
    "print(\"Target class distribution:\")\n",
    "print(y.value_counts())\n",
    "\n",
    "# Step 3: Split the data\n",
    "X_train, X_test, y_train, y_test = train_test_split(\n",
    "    X, y, test_size=0.3, random_state=42\n",
    ")\n",
    "\n",
    "# Step 4: Train the logistic regression model\n",
    "model = LogisticRegression() \n",
    "model.fit(X_train, y_train)\n",
    "\n",
    "# Step 5: Model Accuracy\n",
    "train_score = model.score(X_train, y_train)\n",
    "test_score = model.score(X_test, y_test)\n",
    "\n",
    "print(f\"\\nTraining Accuracy: {train_score:.4f}\")\n",
    "print(f\"Test Accuracy: {test_score:.4f}\")\n",
    "\n",
    "# Step 6: Optional - Make predictions\n",
    "y_pred = model.predict(X_test)\n",
    "print(\"\\nFirst 10 predictions:\", y_pred[:10])\n"
   ]
  },
  {
   "cell_type": "markdown",
   "id": "fabe796c",
   "metadata": {},
   "source": [
    "# 🤔  Confusion Matrix?\n",
    "\n",
    "A **confusion matrix** is a table used to evaluate the performance of a **classification model**, especially in binary and multiclass problems. It compares the **actual labels** with the **predicted labels** and helps identify where the model is making mistakes.\n",
    "\n",
    "---\n",
    "\n",
    "### 🔢 Structure of a Confusion Matrix (Binary Classification)\n",
    "\n",
    "|                         | **Predicted Positive (1)** | **Predicted Negative (0)** |\n",
    "| ----------------------- | -------------------------- | -------------------------- |\n",
    "| **Actual Positive (1)** | True Positive (TP)         | False Negative (FN)        |\n",
    "| **Actual Negative (0)** | False Positive (FP)        | True Negative (TN)         |\n",
    "\n",
    "---\n",
    "\n",
    "### 📘 Terms Explained:\n",
    "\n",
    "* **True Positive (TP)**: Model predicted **positive**, and it **was** positive.\n",
    "* **False Positive (FP)**: Model predicted **positive**, but it **was not** (Type I error).\n",
    "* **False Negative (FN)**: Model predicted **negative**, but it **was actually positive** (Type II error).\n",
    "* **True Negative (TN)**: Model predicted **negative**, and it **was** negative.\n",
    "\n",
    "---\n",
    "\n",
    "### 📈 Why Is It Useful?\n",
    "\n",
    "From the confusion matrix, you can derive key metrics:\n",
    "\n",
    "| Metric      | Formula                                           |\n",
    "| ----------- | ------------------------------------------------- |\n",
    "| Accuracy    | (TP + TN) / (TP + TN + FP + FN)                   |\n",
    "| Precision   | TP / (TP + FP)                                    |\n",
    "| Recall      | TP / (TP + FN)                                    |\n",
    "| F1 Score    | 2 \\* (Precision \\* Recall) / (Precision + Recall) |\n",
    "| Specificity | TN / (TN + FP)                                    |\n",
    "\n",
    "---\n",
    "\n"
   ]
  },
  {
   "cell_type": "code",
   "execution_count": 45,
   "id": "de08205f",
   "metadata": {},
   "outputs": [
    {
     "name": "stdout",
     "output_type": "stream",
     "text": [
      "\n",
      "Confusion Matrix:\n",
      "[[32  9]\n",
      " [ 8 42]]\n"
     ]
    },
    {
     "data": {
      "image/png": "[encoded data removed]",
      "text/plain": [
       "<Figure size 640x480 with 2 Axes>"
      ]
     },
     "metadata": {},
     "output_type": "display_data"
    }
   ],
   "source": [
    "from sklearn.metrics import confusion_matrix, ConfusionMatrixDisplay\n",
    "import matplotlib.pyplot as plt\n",
    "\n",
    "\n",
    "# Step 7: Confusion Matrix\n",
    "cm = confusion_matrix(y_test, y_pred)\n",
    "disp = ConfusionMatrixDisplay(confusion_matrix=cm, display_labels=model.classes_)\n",
    "\n",
    "print(\"\\nConfusion Matrix:\")\n",
    "print(cm)\n",
    "\n",
    "# Plot the confusion matrix\n",
    "disp.plot(cmap=plt.cm.Blues)\n",
    "plt.title(\"Confusion Matrix\")\n",
    "plt.show()"
   ]
  },
  {
   "cell_type": "markdown",
   "id": "3ad34270",
   "metadata": {},
   "source": [
    "# **Performance metrics** \n",
    "Performance metrics used in evaluating classification models, especially binary classification (like predicting heart disease: `0` = no, `1` = yes).\n",
    "\n",
    "---\n",
    "\n",
    "### 🎯 1. **Accuracy**\n",
    "\n",
    "**Definition:** How often is the model correct?\n",
    "\n",
    "$$\n",
    "\\text{Accuracy} = \\frac{TP + TN}{TP + TN + FP + FN}\n",
    "$$\n",
    "\n",
    "* **Good when:** Classes are balanced.\n",
    "* **Bad when:** One class dominates (imbalanced data).\n",
    "\n",
    "---\n",
    "\n",
    "### 🎯 2. **Precision**\n",
    "\n",
    "**Definition:** Of all predicted positives, how many are truly positive?\n",
    "\n",
    "$$\n",
    "\\text{Precision} = \\frac{TP}{TP + FP}\n",
    "$$\n",
    "\n",
    "* **High precision** = few false positives.\n",
    "* **Useful for:** When false positives are costly (e.g., spam detection).\n",
    "\n",
    "---\n",
    "\n",
    "### 🎯 3. **Recall (Sensitivity, True Positive Rate)**\n",
    "\n",
    "**Definition:** Of all actual positives, how many did the model correctly identify?\n",
    "\n",
    "$$\n",
    "\\text{Recall} = \\frac{TP}{TP + FN}\n",
    "$$\n",
    "\n",
    "* **High recall** = few false negatives.\n",
    "* **Useful for:** When missing a positive case is risky (e.g., disease detection).\n",
    "\n",
    "---\n",
    "\n",
    "### 🎯 4. **F1 Score**\n",
    "\n",
    "**Definition:** Harmonic mean of precision and recall.\n",
    "\n",
    "$$\n",
    "\\text{F1 Score} = 2 \\times \\frac{\\text{Precision} \\times \\text{Recall}}{\\text{Precision} + \\text{Recall}}\n",
    "$$\n",
    "\n",
    "* **Balances precision and recall.**\n",
    "* **Useful for:** Imbalanced datasets.\n",
    "\n",
    "---\n",
    "\n",
    "### 🎯 5. **ROC-AUC (Receiver Operating Characteristic - Area Under Curve)**\n",
    "\n",
    "* **ROC Curve:** Plots **True Positive Rate** vs. **False Positive Rate**.\n",
    "* **AUC Score (0–1):** Higher is better.\n",
    "\n",
    "  * 0.5 = random guessing\n",
    "  * 1.0 = perfect classification\n",
    "\n",
    "---\n",
    "\n",
    "### 🎯 6. **Specificity (True Negative Rate)**\n",
    "\n",
    "$$\n",
    "\\text{Specificity} = \\frac{TN}{TN + FP}\n",
    "$$\n",
    "\n",
    "* Focuses on correctly predicting negatives.\n",
    "* Complements recall.\n",
    "\n",
    "---\n",
    "\n",
    "### 🔄 Quick Summary Table:\n",
    "\n",
    "| Metric      | Focuses on                          | Good For When...            |\n",
    "| ----------- | ----------------------------------- | --------------------------- |\n",
    "| Accuracy    | Overall correctness                 | Classes are balanced        |\n",
    "| Precision   | Avoiding false positives            | FP are costly               |\n",
    "| Recall      | Avoiding false negatives            | FN are risky                |\n",
    "| F1 Score    | Balance between precision & recall  | Data is imbalanced          |\n",
    "| ROC-AUC     | Model's ability to rank predictions | Comparing models            |\n",
    "| Specificity | Correct negatives                   | You care about false alarms |\n",
    "\n",
    "---\n"
   ]
  },
  {
   "cell_type": "code",
   "execution_count": null,
   "id": "cf907dea",
   "metadata": {},
   "outputs": [
    {
     "name": "stdout",
     "output_type": "stream",
     "text": [
      "Accuracy: 0.8132\n",
      "Precision: 0.8235\n",
      "Recall: 0.84\n",
      "F1 Score: 0.8317\n"
     ]
    }
   ],
   "source": [
    "# Step 6: Evaluate performance\n",
    "from sklearn.metrics import f1_score, precision_score, recall_score\n",
    "\n",
    "acc = accuracy_score(y_test, y_pred)\n",
    "prec = precision_score(y_test, y_pred)\n",
    "rec = recall_score(y_test, y_pred)\n",
    "f1 = f1_score(y_test, y_pred)\n",
    "\n",
    "print(\"Accuracy:\", round(acc, 4))\n",
    "print(\"Precision:\", round(prec, 4))\n",
    "print(\"Recall:\", round(rec, 4))\n",
    "print(\"F1 Score:\", round(f1, 4))"
   ]
  },
  {
   "cell_type": "code",
   "execution_count": 47,
   "id": "ee79c16c",
   "metadata": {},
   "outputs": [
    {
     "name": "stdout",
     "output_type": "stream",
     "text": [
      "              precision    recall  f1-score   support\n",
      "\n",
      "           0       0.80      0.78      0.79        41\n",
      "           1       0.82      0.84      0.83        50\n",
      "\n",
      "    accuracy                           0.81        91\n",
      "   macro avg       0.81      0.81      0.81        91\n",
      "weighted avg       0.81      0.81      0.81        91\n",
      "\n"
     ]
    }
   ],
   "source": [
    "print(classification_report(y_test,y_pred))"
   ]
  }
 ],
 "metadata": {
  "kernelspec": {
   "display_name": "Python 3",
   "language": "python",
   "name": "python3"
  },
  "language_info": {
   "codemirror_mode": {
    "name": "ipython",
    "version": 3
   },
   "file_extension": ".py",
   "mimetype": "text/x-python",
   "name": "python",
   "nbconvert_exporter": "python",
   "pygments_lexer": "ipython3",
   "version": "3.10.6"
  }
 },
 "nbformat": 4,
 "nbformat_minor": 5
}
