{
 "cells": [
  {
   "attachments": {
    "image.png": {
     "image/png": "[encoded data removed]"
    }
   },
   "cell_type": "markdown",
   "id": "928d2494",
   "metadata": {},
   "source": [
    "The **K-Nearest Neighbors (KNN)** algorithm is a **supervised machine learning** algorithm used for **classification** and **regression**, but it's more commonly used for classification problems.\n",
    "\n",
    "---\n",
    "![image.png](attachment:image.png)(https://miro.medium.com/v2/resize:fit:600/0*6PwJ2ipbI_S9bMHr.png)\n",
    "\n",
    "### 🔷 How KNN Works:\n",
    "\n",
    "1. **Training Phase:**\n",
    "\n",
    "   * KNN is a **lazy learner** – it doesn't explicitly learn a model.\n",
    "   * It just **stores the training data**.\n",
    "\n",
    "2. **Prediction Phase (for a new data point):**\n",
    "\n",
    "   * Compute the **distance** (usually Euclidean) between the new point and all points in the training data.\n",
    "   * **Select the K nearest neighbors** (K is a user-defined number).\n",
    "   * **Vote**:\n",
    "\n",
    "     * **Classification**: Assign the most common class among the K neighbors.\n",
    "     * **Regression**: Take the average (or weighted average) of the K neighbors’ values.\n",
    "\n",
    "---\n",
    "\n",
    "\n",
    "### 🔷 Euclidean Distance Formula:\n",
    "\n",
    "For two points:\n",
    "\n",
    "$$\n",
    "P = (p_1, p_2, ..., p_n), \\quad Q = (q_1, q_2, ..., q_n)\n",
    "$$\n",
    "\n",
    "The **Euclidean distance** between $P$ and $Q$ is:\n",
    "\n",
    "$$\n",
    "d(P, Q) = \\sqrt{(p_1 - q_1)^2 + (p_2 - q_2)^2 + \\cdots + (p_n - q_n)^2}\n",
    "$$\n",
    "\n",
    "---\n",
    "\n",
    "### 🔹 2D Example:\n",
    "\n",
    "Let:\n",
    "\n",
    "$$\n",
    "P = (3, 4), \\quad Q = (7, 1)\n",
    "$$\n",
    "\n",
    "Then:\n",
    "\n",
    "$$\n",
    "d(P, Q) = \\sqrt{(3 - 7)^2 + (4 - 1)^2} = \\sqrt{(-4)^2 + (3)^2} = \\sqrt{16 + 9} = \\sqrt{25} = 5\n",
    "$$\n",
    "\n",
    "### 🔶 Key Concepts:\n",
    "\n",
    "| Concept             | Details                                                                            |\n",
    "| ------------------- | ---------------------------------------------------------------------------------- |\n",
    "| **K**               | Number of nearest neighbors to consider. Choosing the right K is critical.         |\n",
    "| **Distance Metric** | Common: Euclidean, Manhattan, Minkowski, Hamming (for categorical data).           |\n",
    "| **Feature Scaling** | Important! Features should be normalized/standardized due to distance calculation. |\n",
    "\n",
    "---\n",
    "\n",
    "### 🔹 Example (Classification):\n",
    "\n",
    "Suppose we want to classify a fruit as **apple** or **orange** based on features like weight and color.\n",
    "\n",
    "If K=3 and among the 3 nearest neighbors, 2 are apples and 1 is orange → classify as **apple**.\n",
    "\n",
    "---\n",
    "\n",
    "\n"
   ]
  },
  {
   "cell_type": "code",
   "execution_count": 1,
   "id": "05e7ef32",
   "metadata": {},
   "outputs": [
    {
     "name": "stdout",
     "output_type": "stream",
     "text": [
      "Accuracy: 1.0\n"
     ]
    }
   ],
   "source": [
    "\n",
    "from sklearn.datasets import load_iris\n",
    "from sklearn.model_selection import train_test_split\n",
    "from sklearn.neighbors import KNeighborsClassifier\n",
    "from sklearn.metrics import accuracy_score\n",
    "\n",
    "# Load dataset\n",
    "iris = load_iris()\n",
    "X, y = iris.data, iris.target\n",
    "\n",
    "# Split into train and test\n",
    "X_train, X_test, y_train, y_test = train_test_split(X, y, test_size=0.2, random_state=42)\n",
    "\n",
    "# Create KNN model\n",
    "knn = KNeighborsClassifier(n_neighbors=3)\n",
    "\n",
    "# Train model\n",
    "knn.fit(X_train, y_train)\n",
    "\n",
    "# Predict\n",
    "y_pred = knn.predict(X_test)\n",
    "\n",
    "# Accuracy\n",
    "print(\"Accuracy:\", accuracy_score(y_test, y_pred))"
   ]
  },
  {
   "cell_type": "markdown",
   "id": "e3703677",
   "metadata": {},
   "source": [
    "\n",
    "### ✅ Advantages:\n",
    "\n",
    "* Simple to implement and understand.\n",
    "* No assumptions about data distribution.\n",
    "* No training phase needed.\n",
    "* Can be effective with enough representative data.\n",
    "\n",
    "### ❌ Disadvantages:\n",
    "\n",
    "* Computationally expensive for large datasets (since distance to every point must be computed).\n",
    "* Sensitive to irrelevant or redundant features.\n",
    "* Poor performance on imbalanced data or high-dimensional data (curse of dimensionality)."
   ]
  },
  {
   "cell_type": "markdown",
   "id": "df0f0f0a",
   "metadata": {},
   "source": []
  }
 ],
 "metadata": {
  "kernelspec": {
   "display_name": "Python 3",
   "language": "python",
   "name": "python3"
  },
  "language_info": {
   "codemirror_mode": {
    "name": "ipython",
    "version": 3
   },
   "file_extension": ".py",
   "mimetype": "text/x-python",
   "name": "python",
   "nbconvert_exporter": "python",
   "pygments_lexer": "ipython3",
   "version": "3.10.6"
  }
 },
 "nbformat": 4,
 "nbformat_minor": 5
}
